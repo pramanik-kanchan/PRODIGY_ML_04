{
  "nbformat": 4,
  "nbformat_minor": 0,
  "metadata": {
    "colab": {
      "provenance": [],
      "gpuType": "V28"
    },
    "kernelspec": {
      "name": "python3",
      "display_name": "Python 3"
    },
    "language_info": {
      "name": "python"
    },
    "accelerator": "TPU"
  },
  "cells": [
    {
      "cell_type": "code",
      "execution_count": null,
      "metadata": {
        "id": "_47BLSHPY6fe"
      },
      "outputs": [],
      "source": [
        "import os\n",
        "import cv2\n",
        "\n",
        "dataset_dir = '/content/drive/MyDrive/07'\n",
        "\n",
        "def load_dataset(dataset_dir):\n",
        "    images = []\n",
        "    labels = []\n",
        "    for label in os.listdir(dataset_dir):\n",
        "        label_dir = os.path.join(dataset_dir, label)\n",
        "        for image_file in os.listdir(label_dir):\n",
        "            image_path = os.path.join(label_dir, image_file)\n",
        "            image = cv2.imread(image_path)\n",
        "            images.append(image)\n",
        "            labels.append(label)\n",
        "    return images, labels\n",
        "\n",
        "images, labels = load_dataset(dataset_dir)"
      ]
    },
    {
      "cell_type": "code",
      "source": [
        "import numpy as np\n",
        "from sklearn.preprocessing import LabelEncoder\n",
        "from sklearn.model_selection import train_test_split\n",
        "\n",
        "def preprocess_data(images, labels):\n",
        "    images = np.array(images)\n",
        "    labels = np.array(labels)\n",
        "    # Convert labels to numerical values\n",
        "    label_encoder = LabelEncoder()\n",
        "    labels = label_encoder.fit_transform(labels)\n",
        "    # Normalize images\n",
        "    images = images / 255.0\n",
        "    # Split dataset into train and test sets\n",
        "    X_train, X_test, y_train, y_test = train_test_split(images, labels, test_size=0.3, random_state=0)\n",
        "    return X_train, X_test, y_train, y_test\n",
        "\n",
        "X_train, X_test, y_train, y_test = preprocess_data(images, labels)"
      ],
      "metadata": {
        "id": "cpvJBHt9aQta"
      },
      "execution_count": null,
      "outputs": []
    },
    {
      "cell_type": "code",
      "source": [
        "# Example code for model training\n",
        "# Assuming you have preprocessed train and test sets\n",
        "\n",
        "from tensorflow.keras.models import Sequential\n",
        "from tensorflow.keras.layers import Conv2D, MaxPooling2D, Flatten, Dense\n",
        "\n",
        "image_height, image_width = X_train.shape[1], X_train.shape[2]  # Assuming images are already preprocessed\n",
        "num_classes = len(np.unique(y_train))  # Number of unique classes in the dataset\n",
        "\n",
        "model = Sequential([\n",
        "    Conv2D(32, (3, 3), activation='relu', input_shape=(image_height, image_width, 3)),\n",
        "    MaxPooling2D((2, 2)),\n",
        "    Conv2D(64, (3, 3), activation='relu'),\n",
        "    MaxPooling2D((2, 2)),\n",
        "    Flatten(),\n",
        "    Dense(64, activation='relu'),\n",
        "    Dense(num_classes, activation='softmax')\n",
        "])\n",
        "\n",
        "model.compile(optimizer='adam',\n",
        "              loss='sparse_categorical_crossentropy',\n",
        "              metrics=['accuracy'])\n",
        "\n",
        "model.fit(X_train, y_train, epochs=10, batch_size=32, validation_data=(X_test, y_test))"
      ],
      "metadata": {
        "colab": {
          "base_uri": "https://localhost:8080/"
        },
        "id": "2KQgUoU0dJPU",
        "outputId": "50829009-76de-4bdf-9b55-308021c1ead8"
      },
      "execution_count": null,
      "outputs": [
        {
          "output_type": "stream",
          "name": "stdout",
          "text": [
            "Epoch 1/10\n",
            "45/45 [==============================] - 57s 1s/step - loss: 0.6944 - accuracy: 0.8675 - val_loss: 0.0060 - val_accuracy: 0.9983\n",
            "Epoch 2/10\n",
            "45/45 [==============================] - 53s 1s/step - loss: 5.2565e-04 - accuracy: 1.0000 - val_loss: 5.1989e-05 - val_accuracy: 1.0000\n",
            "Epoch 3/10\n",
            "45/45 [==============================] - 54s 1s/step - loss: 2.1499e-05 - accuracy: 1.0000 - val_loss: 5.3843e-05 - val_accuracy: 1.0000\n",
            "Epoch 4/10\n",
            "45/45 [==============================] - 54s 1s/step - loss: 8.9593e-06 - accuracy: 1.0000 - val_loss: 3.2888e-05 - val_accuracy: 1.0000\n",
            "Epoch 5/10\n",
            "45/45 [==============================] - 54s 1s/step - loss: 6.6799e-06 - accuracy: 1.0000 - val_loss: 2.7056e-05 - val_accuracy: 1.0000\n",
            "Epoch 6/10\n",
            "45/45 [==============================] - 55s 1s/step - loss: 5.7034e-06 - accuracy: 1.0000 - val_loss: 2.2865e-05 - val_accuracy: 1.0000\n",
            "Epoch 7/10\n",
            "45/45 [==============================] - 55s 1s/step - loss: 5.0599e-06 - accuracy: 1.0000 - val_loss: 2.0291e-05 - val_accuracy: 1.0000\n",
            "Epoch 8/10\n",
            "45/45 [==============================] - 55s 1s/step - loss: 4.5325e-06 - accuracy: 1.0000 - val_loss: 1.9313e-05 - val_accuracy: 1.0000\n",
            "Epoch 9/10\n",
            "45/45 [==============================] - 56s 1s/step - loss: 4.1393e-06 - accuracy: 1.0000 - val_loss: 1.8215e-05 - val_accuracy: 1.0000\n",
            "Epoch 10/10\n",
            "45/45 [==============================] - 56s 1s/step - loss: 3.7760e-06 - accuracy: 1.0000 - val_loss: 1.6837e-05 - val_accuracy: 1.0000\n"
          ]
        },
        {
          "output_type": "execute_result",
          "data": {
            "text/plain": [
              "<keras.src.callbacks.History at 0x7d5124731960>"
            ]
          },
          "metadata": {},
          "execution_count": 3
        }
      ]
    },
    {
      "cell_type": "code",
      "source": [
        "# Example code for model evaluation\n",
        "# Assuming you have a trained model and test set\n",
        "\n",
        "loss, accuracy = model.evaluate(X_test, y_test)\n",
        "print(f'Test Loss: {loss}')\n",
        "print(f'Test Accuracy: {accuracy}')"
      ],
      "metadata": {
        "colab": {
          "base_uri": "https://localhost:8080/"
        },
        "id": "KmoFUyzxfhHu",
        "outputId": "77676907-e346-4259-fe24-b83ddd8601cf"
      },
      "execution_count": null,
      "outputs": [
        {
          "output_type": "stream",
          "name": "stdout",
          "text": [
            "19/19 [==============================] - 4s 214ms/step - loss: 1.6837e-05 - accuracy: 1.0000\n",
            "Test Loss: 1.683666414464824e-05\n",
            "Test Accuracy: 1.0\n"
          ]
        }
      ]
    }
  ]
}